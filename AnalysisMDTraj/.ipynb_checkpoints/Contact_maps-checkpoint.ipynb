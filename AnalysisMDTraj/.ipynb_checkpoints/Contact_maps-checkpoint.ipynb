{
 "cells": [
  {
   "cell_type": "markdown",
   "metadata": {},
   "source": [
    "# Contact maps\n",
    "In this notebook we calculate the contact maps between two masks."
   ]
  },
  {
   "cell_type": "code",
   "execution_count": 2,
   "metadata": {
    "collapsed": false
   },
   "outputs": [
    {
     "name": "stderr",
     "output_type": "stream",
     "text": [
      "/Users/je714/anaconda/lib/python3.4/site-packages/ipykernel/pylab/config.py:66: DeprecationWarning: metadata {'config': True} was set from the constructor.  Metadata should be set using the .tag() method, e.g., Int().tag(key1='value1', key2='value2')\n",
      "  inline backend.\"\"\"\n",
      "/Users/je714/anaconda/lib/python3.4/site-packages/ipykernel/pylab/config.py:71: DeprecationWarning: metadata {'config': True} was set from the constructor.  Metadata should be set using the .tag() method, e.g., Int().tag(key1='value1', key2='value2')\n",
      "  'retina', 'jpeg', 'svg', 'pdf'.\"\"\")\n",
      "/Users/je714/anaconda/lib/python3.4/site-packages/ipykernel/pylab/config.py:85: DeprecationWarning: metadata {'config': True} was set from the constructor.  Metadata should be set using the .tag() method, e.g., Int().tag(key1='value1', key2='value2')\n",
      "  use `figure_formats` instead)\"\"\")\n",
      "/Users/je714/anaconda/lib/python3.4/site-packages/ipykernel/pylab/config.py:95: DeprecationWarning: metadata {'config': True} was set from the constructor.  Metadata should be set using the .tag() method, e.g., Int().tag(key1='value1', key2='value2')\n",
      "  \"\"\"\n",
      "/Users/je714/anaconda/lib/python3.4/site-packages/ipykernel/pylab/config.py:114: DeprecationWarning: metadata {'config': True} was set from the constructor.  Metadata should be set using the .tag() method, e.g., Int().tag(key1='value1', key2='value2')\n",
      "  \"\"\")\n",
      "/Users/je714/anaconda/lib/python3.4/site-packages/ipykernel/pylab/config.py:44: DeprecationWarning: InlineBackend._config_changed is deprecated: use @observe and @unobserve instead.\n",
      "  def _config_changed(self, name, old, new):\n",
      "/Users/je714/anaconda/lib/python3.4/site-packages/traitlets/traitlets.py:770: DeprecationWarning: A parent of InlineBackend._config_changed has adopted the new @observe(change) API\n",
      "  clsname, change_or_name), DeprecationWarning)\n",
      "/Users/je714/anaconda/lib/python3.4/site-packages/IPython/core/formatters.py:98: DeprecationWarning: DisplayFormatter._formatters_default is deprecated: use @default decorator instead.\n",
      "  def _formatters_default(self):\n",
      "/Users/je714/anaconda/lib/python3.4/site-packages/IPython/core/formatters.py:677: DeprecationWarning: PlainTextFormatter._deferred_printers_default is deprecated: use @default decorator instead.\n",
      "  def _deferred_printers_default(self):\n",
      "/Users/je714/anaconda/lib/python3.4/site-packages/IPython/core/formatters.py:669: DeprecationWarning: PlainTextFormatter._singleton_printers_default is deprecated: use @default decorator instead.\n",
      "  def _singleton_printers_default(self):\n",
      "/Users/je714/anaconda/lib/python3.4/site-packages/IPython/core/formatters.py:672: DeprecationWarning: PlainTextFormatter._type_printers_default is deprecated: use @default decorator instead.\n",
      "  def _type_printers_default(self):\n",
      "/Users/je714/anaconda/lib/python3.4/site-packages/IPython/core/formatters.py:672: DeprecationWarning: PlainTextFormatter._type_printers_default is deprecated: use @default decorator instead.\n",
      "  def _type_printers_default(self):\n",
      "/Users/je714/anaconda/lib/python3.4/site-packages/IPython/core/formatters.py:677: DeprecationWarning: PlainTextFormatter._deferred_printers_default is deprecated: use @default decorator instead.\n",
      "  def _deferred_printers_default(self):\n"
     ]
    }
   ],
   "source": [
    "from traj_loading import load_Trajs_generator\n",
    "import numpy as np\n",
    "import mdtraj as md\n",
    "from glob import glob\n",
    "import itertools\n",
    "import seaborn as sns\n",
    "%matplotlib inline"
   ]
  },
  {
   "cell_type": "markdown",
   "metadata": {},
   "source": [
    "Provide the topologies with glob expression.\n",
    "\n",
    "\n",
    "Provide the matching topology as a string."
   ]
  },
  {
   "cell_type": "code",
   "execution_count": 3,
   "metadata": {
    "collapsed": false
   },
   "outputs": [],
   "source": [
    "nc_file_list = sorted(glob(\n",
    "        \"/Users/je714/Troponin/IAN_Troponin/completehowarthcut/salted/ff14SB/run10/05*nc\"))\n",
    "topology = \"/Users/je714/Troponin/IAN_Troponin/completehowarthcut/salted/ff14SB/run1/WT-ff14SB_clean.prmtop\""
   ]
  },
  {
   "cell_type": "markdown",
   "metadata": {},
   "source": [
    "Provide two masks to check the contacts. 0 indexed residue ranges only.\n",
    "\n",
    "We generate a residue-residue pair list with `itertools.product()`."
   ]
  },
  {
   "cell_type": "code",
   "execution_count": 4,
   "metadata": {
    "collapsed": false
   },
   "outputs": [
    {
     "name": "stdout",
     "output_type": "stream",
     "text": [
      "Mask1 has 41 residues\n",
      "\n",
      "Mask2 has 10 residues\n",
      "\n",
      "Number of residue-residue interactions that will be considered: 410\n",
      "\n",
      "Mask1:[248, 249, 250, 251, 252, 253, 254, 255, 256, 257, 258, 259, 260, 261, 262, 263, 264, 265, 266, 267, 268, 269, 270, 271, 272, 273, 274, 275, 276, 277, 278, 279, 280, 281, 282, 283, 284, 285, 286, 287, 288]\n",
      "Mask2:[385, 386, 387, 388, 389, 390, 391, 392, 393, 394]\n",
      "Residue pair list:[(248, 385), (248, 386), (248, 387), (248, 388), (248, 389), (248, 390), (248, 391), (248, 392), (248, 393), (248, 394), (249, 385), (249, 386), (249, 387), (249, 388), (249, 389), (249, 390), (249, 391), (249, 392), (249, 393), (249, 394), (250, 385), (250, 386), (250, 387), (250, 388), (250, 389), (250, 390), (250, 391), (250, 392), (250, 393), (250, 394), (251, 385), (251, 386), (251, 387), (251, 388), (251, 389), (251, 390), (251, 391), (251, 392), (251, 393), (251, 394), (252, 385), (252, 386), (252, 387), (252, 388), (252, 389), (252, 390), (252, 391), (252, 392), (252, 393), (252, 394), (253, 385), (253, 386), (253, 387), (253, 388), (253, 389), (253, 390), (253, 391), (253, 392), (253, 393), (253, 394), (254, 385), (254, 386), (254, 387), (254, 388), (254, 389), (254, 390), (254, 391), (254, 392), (254, 393), (254, 394), (255, 385), (255, 386), (255, 387), (255, 388), (255, 389), (255, 390), (255, 391), (255, 392), (255, 393), (255, 394), (256, 385), (256, 386), (256, 387), (256, 388), (256, 389), (256, 390), (256, 391), (256, 392), (256, 393), (256, 394), (257, 385), (257, 386), (257, 387), (257, 388), (257, 389), (257, 390), (257, 391), (257, 392), (257, 393), (257, 394), (258, 385), (258, 386), (258, 387), (258, 388), (258, 389), (258, 390), (258, 391), (258, 392), (258, 393), (258, 394), (259, 385), (259, 386), (259, 387), (259, 388), (259, 389), (259, 390), (259, 391), (259, 392), (259, 393), (259, 394), (260, 385), (260, 386), (260, 387), (260, 388), (260, 389), (260, 390), (260, 391), (260, 392), (260, 393), (260, 394), (261, 385), (261, 386), (261, 387), (261, 388), (261, 389), (261, 390), (261, 391), (261, 392), (261, 393), (261, 394), (262, 385), (262, 386), (262, 387), (262, 388), (262, 389), (262, 390), (262, 391), (262, 392), (262, 393), (262, 394), (263, 385), (263, 386), (263, 387), (263, 388), (263, 389), (263, 390), (263, 391), (263, 392), (263, 393), (263, 394), (264, 385), (264, 386), (264, 387), (264, 388), (264, 389), (264, 390), (264, 391), (264, 392), (264, 393), (264, 394), (265, 385), (265, 386), (265, 387), (265, 388), (265, 389), (265, 390), (265, 391), (265, 392), (265, 393), (265, 394), (266, 385), (266, 386), (266, 387), (266, 388), (266, 389), (266, 390), (266, 391), (266, 392), (266, 393), (266, 394), (267, 385), (267, 386), (267, 387), (267, 388), (267, 389), (267, 390), (267, 391), (267, 392), (267, 393), (267, 394), (268, 385), (268, 386), (268, 387), (268, 388), (268, 389), (268, 390), (268, 391), (268, 392), (268, 393), (268, 394), (269, 385), (269, 386), (269, 387), (269, 388), (269, 389), (269, 390), (269, 391), (269, 392), (269, 393), (269, 394), (270, 385), (270, 386), (270, 387), (270, 388), (270, 389), (270, 390), (270, 391), (270, 392), (270, 393), (270, 394), (271, 385), (271, 386), (271, 387), (271, 388), (271, 389), (271, 390), (271, 391), (271, 392), (271, 393), (271, 394), (272, 385), (272, 386), (272, 387), (272, 388), (272, 389), (272, 390), (272, 391), (272, 392), (272, 393), (272, 394), (273, 385), (273, 386), (273, 387), (273, 388), (273, 389), (273, 390), (273, 391), (273, 392), (273, 393), (273, 394), (274, 385), (274, 386), (274, 387), (274, 388), (274, 389), (274, 390), (274, 391), (274, 392), (274, 393), (274, 394), (275, 385), (275, 386), (275, 387), (275, 388), (275, 389), (275, 390), (275, 391), (275, 392), (275, 393), (275, 394), (276, 385), (276, 386), (276, 387), (276, 388), (276, 389), (276, 390), (276, 391), (276, 392), (276, 393), (276, 394), (277, 385), (277, 386), (277, 387), (277, 388), (277, 389), (277, 390), (277, 391), (277, 392), (277, 393), (277, 394), (278, 385), (278, 386), (278, 387), (278, 388), (278, 389), (278, 390), (278, 391), (278, 392), (278, 393), (278, 394), (279, 385), (279, 386), (279, 387), (279, 388), (279, 389), (279, 390), (279, 391), (279, 392), (279, 393), (279, 394), (280, 385), (280, 386), (280, 387), (280, 388), (280, 389), (280, 390), (280, 391), (280, 392), (280, 393), (280, 394), (281, 385), (281, 386), (281, 387), (281, 388), (281, 389), (281, 390), (281, 391), (281, 392), (281, 393), (281, 394), (282, 385), (282, 386), (282, 387), (282, 388), (282, 389), (282, 390), (282, 391), (282, 392), (282, 393), (282, 394), (283, 385), (283, 386), (283, 387), (283, 388), (283, 389), (283, 390), (283, 391), (283, 392), (283, 393), (283, 394), (284, 385), (284, 386), (284, 387), (284, 388), (284, 389), (284, 390), (284, 391), (284, 392), (284, 393), (284, 394), (285, 385), (285, 386), (285, 387), (285, 388), (285, 389), (285, 390), (285, 391), (285, 392), (285, 393), (285, 394), (286, 385), (286, 386), (286, 387), (286, 388), (286, 389), (286, 390), (286, 391), (286, 392), (286, 393), (286, 394), (287, 385), (287, 386), (287, 387), (287, 388), (287, 389), (287, 390), (287, 391), (287, 392), (287, 393), (287, 394), (288, 385), (288, 386), (288, 387), (288, 388), (288, 389), (288, 390), (288, 391), (288, 392), (288, 393), (288, 394)]\n",
      "\n"
     ]
    }
   ],
   "source": [
    "start1=248\n",
    "end1=288\n",
    "start2=385\n",
    "end2=394\n",
    "list1 = list(range(start1, end1 + 1))\n",
    "list2 = list(range(start2, end2 + 1))\n",
    "pairs = list(itertools.product(list1, list2))\n",
    "print('Mask1 has %d residues\\n' % (end1 - start1 + 1))\n",
    "print('Mask2 has %d residues\\n' % (end2 - start2 + 1))\n",
    "print('Number of residue-residue interactions that will be considered: %d\\n' % len(pairs))\n",
    "print('Mask1:%s\\nMask2:%s\\nResidue pair list:%s\\n' % (list1, list2, pairs))"
   ]
  },
  {
   "cell_type": "markdown",
   "metadata": {},
   "source": [
    "## Contact implementation using `md.compute_contacts`.\n",
    "\n",
    "It only allows for three types of contact definition. It gives much higher values than cpptraj unless really low values of distance are used as a cutoff."
   ]
  },
  {
   "cell_type": "code",
   "execution_count": 5,
   "metadata": {
    "collapsed": false,
    "scrolled": true
   },
   "outputs": [
    {
     "name": "stdout",
     "output_type": "stream",
     "text": [
      "Number of analyzed frames: 6750\n",
      "\n",
      "Aggregate simulation time: 675 ns\n",
      "\n",
      "[[ 0.76444444  0.7762963   0.80696296  0.80103704  0.81377778  0.83155556\n",
      "   0.84414815  0.85940741  0.87481481  0.90933333]\n",
      " [ 0.78296296  0.79688889  0.80562963  0.804       0.81066667  0.82325926\n",
      "   0.84311111  0.85703704  0.87748148  0.91407407]\n",
      " [ 0.79318519  0.79185185  0.79866667  0.79555556  0.8042963   0.8237037\n",
      "   0.84059259  0.85525926  0.87377778  0.916     ]\n",
      " [ 0.7922963   0.78903704  0.79659259  0.79585185  0.80518519  0.82459259\n",
      "   0.84044444  0.85748148  0.88311111  0.94281481]\n",
      " [ 0.68740741  0.75348148  0.79792593  0.80207407  0.81481481  0.83288889\n",
      "   0.84207407  0.8637037   0.89422222  0.97185185]\n",
      " [ 0.55185185  0.62088889  0.7797037   0.78133333  0.81762963  0.83955556\n",
      "   0.84814815  0.87022222  0.92814815  0.99051852]\n",
      " [ 0.49985185  0.48281481  0.71111111  0.70814815  0.82059259  0.84933333\n",
      "   0.85051852  0.88414815  0.93851852  0.99851852]\n",
      " [ 0.52859259  0.53911111  0.73081481  0.73333333  0.82503704  0.85585185\n",
      "   0.856       0.90251852  0.98385185  0.99985185]\n",
      " [ 0.67703704  0.77377778  0.82281481  0.83096296  0.83140741  0.87896296\n",
      "   0.87807407  0.98088889  0.9997037   1.        ]\n",
      " [ 0.74340741  0.83437037  0.87244444  0.93037037  0.94118519  0.9917037\n",
      "   0.988       0.9997037   1.          1.        ]\n",
      " [ 0.65777778  0.6757037   0.91822222  0.9882963   0.99614815  0.9962963\n",
      "   0.99748148  0.99985185  1.          1.        ]\n",
      " [ 0.67925926  0.78533333  0.97066667  0.9922963   0.99777778  0.99718519\n",
      "   1.          1.          1.          1.        ]\n",
      " [ 0.66044444  0.67955556  0.93051852  0.98296296  0.99807407  0.99837037\n",
      "   1.          1.          1.          1.        ]\n",
      " [ 0.67555556  0.71851852  0.9317037   0.98222222  0.9997037   0.99985185\n",
      "   1.          1.          1.          1.        ]\n",
      " [ 0.70562963  0.84622222  0.98059259  0.99718519  1.          1.          1.\n",
      "   1.          1.          1.        ]\n",
      " [ 0.68962963  0.77407407  0.95703704  0.99244444  1.          1.          1.\n",
      "   1.          1.          1.        ]\n",
      " [ 0.7037037   0.88192593  0.97496296  0.99777778  0.99985185  1.          1.\n",
      "   1.          1.          1.        ]\n",
      " [ 0.70088889  0.83822222  0.98533333  0.99837037  0.9997037   0.99985185\n",
      "   1.          1.          1.          1.        ]\n",
      " [ 0.69066667  0.83111111  0.98548148  0.99585185  0.99822222  0.99822222\n",
      "   0.9997037   0.99955556  1.          1.        ]\n",
      " [ 0.76444444  0.9722963   0.98948148  0.99466667  0.99733333  0.99807407\n",
      "   0.99925926  0.99925926  0.99985185  1.        ]\n",
      " [ 0.92266667  0.99022222  0.99540741  0.99851852  0.99955556  0.99925926\n",
      "   1.          0.99985185  1.          1.        ]\n",
      " [ 0.98874074  0.99392593  0.99688889  0.99896296  0.9997037   0.99985185\n",
      "   1.          1.          1.          1.        ]\n",
      " [ 0.99940741  0.99822222  0.99925926  0.99985185  1.          1.          1.\n",
      "   1.          1.          1.        ]\n",
      " [ 0.9997037   0.99940741  0.9997037   1.          1.          1.          1.\n",
      "   1.          1.          1.        ]\n",
      " [ 0.99925926  0.99792593  0.99911111  0.9997037   1.          1.          1.\n",
      "   1.          1.          1.        ]\n",
      " [ 1.          0.99896296  0.9997037   1.          1.          1.          1.\n",
      "   1.          1.          1.        ]\n",
      " [ 1.          1.          1.          1.          1.          1.          1.\n",
      "   1.          1.          1.        ]\n",
      " [ 1.          1.          1.          1.          1.          1.          1.\n",
      "   1.          1.          1.        ]\n",
      " [ 1.          1.          1.          1.          1.          1.          1.\n",
      "   1.          1.          1.        ]\n",
      " [ 0.99985185  0.9997037   1.          1.          1.          1.          1.\n",
      "   1.          1.          1.        ]\n",
      " [ 0.99111111  0.99955556  1.          1.          1.          1.          1.\n",
      "   1.          1.          1.        ]\n",
      " [ 0.90844444  0.9682963   0.99837037  1.          1.          1.          1.\n",
      "   1.          1.          1.        ]\n",
      " [ 0.86918519  0.908       0.97851852  0.99940741  1.          1.          1.\n",
      "   1.          1.          1.        ]\n",
      " [ 0.648       0.69955556  0.85585185  0.99081481  0.9997037   1.          1.\n",
      "   0.98711111  1.          0.99377778]\n",
      " [ 0.39481481  0.55837037  0.69274074  0.82874074  0.97644444  0.99851852\n",
      "   1.          0.96740741  0.99985185  0.97051852]\n",
      " [ 0.32237037  0.45466667  0.64266667  0.77644444  0.95096296  0.98488889\n",
      "   0.9997037   0.98148148  0.99985185  0.98548148]\n",
      " [ 0.46859259  0.58518519  0.74992593  0.95451852  0.99496296  0.99688889\n",
      "   1.          1.          1.          1.        ]\n",
      " [ 0.35940741  0.4597037   0.66074074  0.85659259  0.98251852  0.9962963\n",
      "   1.          1.          1.          1.        ]\n",
      " [ 0.46251852  0.49748148  0.70459259  0.88        0.9802963   0.99925926\n",
      "   1.          1.          1.          1.        ]\n",
      " [ 0.77718519  0.84933333  0.93185185  0.98488889  0.99792593  0.99451852\n",
      "   1.          1.          1.          1.        ]\n",
      " [ 0.78607407  0.84355556  0.93111111  0.98755556  0.99896296  0.99851852\n",
      "   1.          1.          1.          1.        ]]\n"
     ]
    }
   ],
   "source": [
    "stride = 5\n",
    "chunk = 100\n",
    "trajs_generator= load_Trajs_generator(trajfiles_list=nc_file_list,\n",
    "                                      prmtop_file=topology, stride=stride, chunk=chunk)\n",
    "frequency = np.zeros((len(list1), len(list2)))\n",
    "count = 0 # Keep the frame count\n",
    "\n",
    "for traj_chunk in trajs_generator:\n",
    "    count += traj_chunk.n_frames\n",
    "    distances_inChunk = md.compute_contacts(traj_chunk, pairs, scheme = 'ca')\n",
    "    column_sum = (distances_inChunk[0] <= 4).sum(0) # Sum by column\n",
    "    frequency += column_sum.reshape(len(list1), len(list2)) # Sum the partial result to frequency\n",
    "\n",
    "contact_frequency = frequency / count # Total contact value for each residue-residue pair. From 0 to 1.\n",
    "\n",
    "print('Number of analyzed frames: %d\\n' % count)\n",
    "print('Aggregate simulation time: %2.f ns\\n' % (count * 0.02 * stride))\n",
    "print(contact_frequency)"
   ]
  },
  {
   "cell_type": "markdown",
   "metadata": {},
   "source": [
    "Let's try to make a heat map..."
   ]
  },
  {
   "cell_type": "code",
   "execution_count": 6,
   "metadata": {
    "collapsed": false
   },
   "outputs": [
    {
     "name": "stderr",
     "output_type": "stream",
     "text": [
      "/Users/je714/anaconda/lib/python3.4/site-packages/IPython/core/formatters.py:92: DeprecationWarning: DisplayFormatter._ipython_display_formatter_default is deprecated: use @default decorator instead.\n",
      "  def _ipython_display_formatter_default(self):\n",
      "/Users/je714/anaconda/lib/python3.4/site-packages/IPython/core/formatters.py:669: DeprecationWarning: PlainTextFormatter._singleton_printers_default is deprecated: use @default decorator instead.\n",
      "  def _singleton_printers_default(self):\n"
     ]
    },
    {
     "data": {
      "image/png": "[encoded data removed]",
      "text/plain": [
       "<matplotlib.figure.Figure at 0x11537be48>"
      ]
     },
     "metadata": {},
     "output_type": "display_data"
    }
   ],
   "source": [
    "ax = sns.heatmap(contact_frequency,\n",
    "                vmin=0, vmax=1,\n",
    "                xticklabels=list2,\n",
    "                yticklabels=list1)\n",
    "ax.invert_yaxis()\n",
    "sns.plt.show()"
   ]
  },
  {
   "cell_type": "markdown",
   "metadata": {},
   "source": [
    "## Manual implementation of contacts\n",
    "Let's try to define a contact as Cheng et al. paper.\n",
    "\n",
    "\n",
    "A carbon-carbon distance of <= 5.4 Å and a distance between any other noncarbon atoms of <= 4.6 Å is defined as a *contact*.\n",
    "\n",
    "We begin by adding a Cartesian product implementation for two numpy arrays. Extracted from [StackOverflow](http://stackoverflow.com/questions/11144513/numpy-cartesian-product-of-x-and-y-array-points-into-single-array-of-2d-points). We'll use it when computing the pairwise atoms to check the distance for in each residue-residue pair."
   ]
  },
  {
   "cell_type": "code",
   "execution_count": null,
   "metadata": {
    "collapsed": true
   },
   "outputs": [],
   "source": [
    "def cartesianProduct_npArrays(x,y):\n",
    "    return(np.transpose([np.tile(x, len(y)), np.repeat(y, len(x))]))"
   ]
  },
  {
   "cell_type": "code",
   "execution_count": null,
   "metadata": {
    "collapsed": false,
    "scrolled": true
   },
   "outputs": [],
   "source": [
    "top = md.load_prmtop(topology)\n",
    "stride = 5\n",
    "chunk = 100\n",
    "trajs_generator= load_Trajs_generator(trajfiles_list=nc_file_list,\n",
    "                                      prmtop_file=topology, stride=stride, chunk=chunk)\n",
    "frequency = np.zeros(len(pairs))\n",
    "print(frequency)\n",
    "count = 0 # Keep the frame count\n",
    "for traj_chunk in trajs_generator:\n",
    "    count += traj_chunk.n_frames\n",
    "    for residue_pair in pairs:\n",
    "        print(residue_pair)\n",
    "        c_atoms_residue1 = top.select(\"resid %d and (type C)\" % residue_pair[0])\n",
    "        not_c_atoms_residue1 = top.select(\"resid %d and not type C\" % residue_pair[0])\n",
    "        c_atoms_residue2 = top.select(\"resid %d and type C\" % residue_pair[1])\n",
    "        not_c_atoms_residue2 = top.select(\"resid %d and not type C\" % residue_pair[1])\n",
    "        \n",
    "        c_atoms_dist = md.compute_distances(traj_chunk,\n",
    "                                            cartesianProduct_npArrays(c_atoms_residue1,\n",
    "                                                                      c_atoms_residue2))\n",
    "        not_c_atoms_dist = md.compute_distances(traj_chunk,\n",
    "                                                cartesianProduct_npArrays(not_c_atoms_residue1,\n",
    "                                                                          not_c_atoms_residue2))\n",
    "        "
   ]
  },
  {
   "cell_type": "code",
   "execution_count": null,
   "metadata": {
    "collapsed": false
   },
   "outputs": [],
   "source": [
    "traj1 = md.load_netcdf(\n",
    "    \"/Users/je714/Troponin/IAN_Troponin/completehowarthcut/salted/ff14SB/run1/05_Prod_WTff14SB_000-050ns_run1.nc\",\n",
    "    top = top)"
   ]
  },
  {
   "cell_type": "code",
   "execution_count": null,
   "metadata": {
    "collapsed": false
   },
   "outputs": [],
   "source": [
    "c_atom_pairs = cartesianProduct_npArrays(top.select(\"resid 0 and type C\"),\n",
    "                                         top.select(\"resid 3 and type C\"))\n",
    "not_c_atom_pairs = cartesianProduct_npArrays(top.select(\"resid 0 and not type C\"),\n",
    "                                             top.select(\"resid 3 and not type C\"))\n",
    "c_distances = md.compute_distances(traj1, c_atom_pairs)\n",
    "not_c_distances = md.compute_distances(traj1, not_c_atom_pairs)"
   ]
  }
 ],
 "metadata": {
  "kernelspec": {
   "display_name": "Python 3",
   "language": "python",
   "name": "python3"
  },
  "language_info": {
   "codemirror_mode": {
    "name": "ipython",
    "version": 3
   },
   "file_extension": ".py",
   "mimetype": "text/x-python",
   "name": "python",
   "nbconvert_exporter": "python",
   "pygments_lexer": "ipython3",
   "version": "3.4.4"
  }
 },
 "nbformat": 4,
 "nbformat_minor": 0
}
