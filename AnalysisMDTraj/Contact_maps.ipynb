{
 "cells": [
  {
   "cell_type": "markdown",
   "metadata": {},
   "source": [
    "# Contact maps\n",
    "In this notebook we calculate the contact maps between two masks."
   ]
  },
  {
   "cell_type": "code",
   "execution_count": 1,
   "metadata": {
    "collapsed": true
   },
   "outputs": [],
   "source": [
    "from traj_loading import load_Trajs_generator\n",
    "import numpy as np\n",
    "import mdtraj as md\n",
    "from glob import glob\n",
    "import itertools"
   ]
  },
  {
   "cell_type": "markdown",
   "metadata": {},
   "source": [
    "Provide the topologies with glob expression.\n",
    "\n",
    "\n",
    "Provide the matching topology as a string."
   ]
  },
  {
   "cell_type": "code",
   "execution_count": 2,
   "metadata": {
    "collapsed": false
   },
   "outputs": [],
   "source": [
    "nc_file_list = sorted(glob(\n",
    "        \"/Users/je714/Troponin/IAN_Troponin/completehowarthcut/salted/ff14SB/run1/05_Prod_WTff14SB_000-050ns_run1.nc\"))\n",
    "topology = \"/Users/je714/Troponin/IAN_Troponin/completehowarthcut/salted/ff14SB/run1/WT-ff14SB_clean.prmtop\""
   ]
  },
  {
   "cell_type": "markdown",
   "metadata": {},
   "source": [
    "Provide two masks to check the contacts. 0 indexed residue ranges only.\n",
    "\n",
    "We generate a residue-residue pair list with `itertools.product()`."
   ]
  },
  {
   "cell_type": "code",
   "execution_count": 3,
   "metadata": {
    "collapsed": false
   },
   "outputs": [
    {
     "name": "stdout",
     "output_type": "stream",
     "text": [
      "Mask1 has 3 residues\n",
      "\n",
      "Mask2 has 3 residues\n",
      "\n",
      "Number of residue-residue interactions that will be considered: 9\n",
      "\n",
      "Mask1:[0, 1, 2]\n",
      "Mask2:[3, 4, 5]\n",
      "Residue pair list:[(0, 3), (0, 4), (0, 5), (1, 3), (1, 4), (1, 5), (2, 3), (2, 4), (2, 5)]\n",
      "\n"
     ]
    }
   ],
   "source": [
    "start1=0\n",
    "end1=2\n",
    "start2=3\n",
    "end2=5\n",
    "list1 = list(range(start1, end1 + 1))\n",
    "list2 = list(range(start2, end2 + 1))\n",
    "pairs = list(itertools.product(list1, list2))\n",
    "print('Mask1 has %d residues\\n' % (end1 - start1 + 1))\n",
    "print('Mask2 has %d residues\\n' % (end2 - start2 + 1))\n",
    "print('Number of residue-residue interactions that will be considered: %d\\n' % len(pairs))\n",
    "print('Mask1:%s\\nMask2:%s\\nResidue pair list:%s\\n' % (list1, list2, pairs))"
   ]
  },
  {
   "cell_type": "markdown",
   "metadata": {},
   "source": [
    "## Contact implementation using `md.compute_contacts`.\n",
    "\n",
    "It only allows for three types of contact definition. It gives much higher values than cpptraj unless really low values of distance are used as a cutoff."
   ]
  },
  {
   "cell_type": "code",
   "execution_count": 4,
   "metadata": {
    "collapsed": false,
    "scrolled": true
   },
   "outputs": [
    {
     "name": "stdout",
     "output_type": "stream",
     "text": [
      "Number of analyzed frames: 500\n",
      "\n",
      "Aggregate simulation time: 50 ns\n",
      "\n",
      "[ 1.  1.  1.  1.  1.  1.  1.  1.  1.]\n"
     ]
    }
   ],
   "source": [
    "stride = 5\n",
    "chunk = 100\n",
    "trajs_generator= load_Trajs_generator(trajfiles_list=nc_file_list,\n",
    "                                      prmtop_file=topology, stride=stride, chunk=chunk)\n",
    "frequency = np.zeros(len(pairs))\n",
    "count = 0 # Keep the frame count\n",
    "for traj_chunk in trajs_generator:\n",
    "    count += traj_chunk.n_frames\n",
    "    distances_inChunk = md.compute_contacts(traj_chunk, pairs, scheme = 'closest-heavy')\n",
    "    column_sum = (distances_inChunk[0] <= 4.6).sum(0).T # Sum by colum and transpose\n",
    "    frequency += column_sum # Sum the partial result to frequency\n",
    "contact_frequency = frequency / count # Total contact value for each residue-residue pair. From 0 to 1.\n",
    "print('Number of analyzed frames: %d\\n' % count)\n",
    "print('Aggregate simulation time: %2.f ns\\n' % (count * 0.02 * stride))\n",
    "print(contact_frequency)"
   ]
  },
  {
   "cell_type": "markdown",
   "metadata": {},
   "source": [
    "## Manual implementation of contacts\n",
    "Let's try to define a contact as Cheng et al. paper.\n",
    "\n",
    "\n",
    "A carbon-carbon distance of <= 5.4 Å and a distance between any other noncarbon atoms of <= 4.6 Å is defined as a *contact*.\n",
    "\n",
    "We begin by adding a Cartesian product implementation for two numpy arrays. Extracted from [StackOverflow](http://stackoverflow.com/questions/11144513/numpy-cartesian-product-of-x-and-y-array-points-into-single-array-of-2d-points). We'll use it when computing the pairwise atoms to check the distance for in each residue-residue pair."
   ]
  },
  {
   "cell_type": "code",
   "execution_count": 5,
   "metadata": {
    "collapsed": true
   },
   "outputs": [],
   "source": [
    "def cartesianProduct_npArrays(x,y):\n",
    "    return(np.transpose([np.tile(x, len(y)), np.repeat(y, len(x))]))"
   ]
  },
  {
   "cell_type": "code",
   "execution_count": 34,
   "metadata": {
    "collapsed": false,
    "scrolled": true
   },
   "outputs": [
    {
     "name": "stdout",
     "output_type": "stream",
     "text": [
      "[ 0.  0.  0.  0.  0.  0.  0.  0.  0.]\n",
      "(0, 3)\n",
      "3000 18200\n",
      "(0, 4)\n",
      "4500 16800\n",
      "(0, 5)\n",
      "3000 22400\n",
      "(1, 3)\n",
      "2400 10400\n",
      "(1, 4)\n",
      "3600 9600\n",
      "(1, 5)\n",
      "2400 12800\n",
      "(2, 3)\n",
      "2400 10400\n",
      "(2, 4)\n",
      "3600 9600\n",
      "(2, 5)\n",
      "2400 12800\n",
      "(0, 3)\n",
      "3000 18200\n",
      "(0, 4)\n",
      "4500 16800\n",
      "(0, 5)\n",
      "3000 22400\n",
      "(1, 3)\n",
      "2400 10400\n",
      "(1, 4)\n",
      "3600 9600\n",
      "(1, 5)\n",
      "2400 12800\n",
      "(2, 3)\n",
      "2400 10400\n",
      "(2, 4)\n",
      "3600 9600\n",
      "(2, 5)\n",
      "2400 12800\n",
      "(0, 3)\n",
      "3000 18200\n",
      "(0, 4)\n",
      "4500 16800\n",
      "(0, 5)\n",
      "3000 22400\n",
      "(1, 3)\n",
      "2400 10400\n",
      "(1, 4)\n",
      "3600 9600\n",
      "(1, 5)\n",
      "2400 12800\n",
      "(2, 3)\n",
      "2400 10400\n",
      "(2, 4)\n",
      "3600 9600\n",
      "(2, 5)\n",
      "2400 12800\n",
      "(0, 3)\n",
      "3000 18200\n",
      "(0, 4)\n",
      "4500 16800\n",
      "(0, 5)\n",
      "3000 22400\n",
      "(1, 3)\n",
      "2400 10400\n",
      "(1, 4)\n",
      "3600 9600\n",
      "(1, 5)\n",
      "2400 12800\n",
      "(2, 3)\n",
      "2400 10400\n",
      "(2, 4)\n",
      "3600 9600\n",
      "(2, 5)\n",
      "2400 12800\n",
      "(0, 3)\n",
      "3000 18200\n",
      "(0, 4)\n",
      "4500 16800\n",
      "(0, 5)\n",
      "3000 22400\n",
      "(1, 3)\n",
      "2400 10400\n",
      "(1, 4)\n",
      "3600 9600\n",
      "(1, 5)\n",
      "2400 12800\n",
      "(2, 3)\n",
      "2400 10400\n",
      "(2, 4)\n",
      "3600 9600\n",
      "(2, 5)\n",
      "2400 12800\n"
     ]
    }
   ],
   "source": [
    "top = md.load_prmtop(topology)\n",
    "stride = 5\n",
    "chunk = 100\n",
    "trajs_generator= load_Trajs_generator(trajfiles_list=nc_file_list,\n",
    "                                      prmtop_file=topology, stride=stride, chunk=chunk)\n",
    "frequency = np.zeros(len(pairs))\n",
    "print(frequency)\n",
    "count = 0 # Keep the frame count\n",
    "for traj_chunk in trajs_generator:\n",
    "    count += traj_chunk.n_frames\n",
    "    for residue_pair in pairs:\n",
    "        print(residue_pair)\n",
    "        c_atoms_residue1 = top.select(\"resid %d and (type C)\" % residue_pair[0])\n",
    "        not_c_atoms_residue1 = top.select(\"resid %d and not type C\" % residue_pair[0])\n",
    "        c_atoms_residue2 = top.select(\"resid %d and type C\" % residue_pair[1])\n",
    "        not_c_atoms_residue2 = top.select(\"resid %d and not type C\" % residue_pair[1])\n",
    "        \n",
    "        c_atoms_dist = md.compute_distances(traj_chunk,\n",
    "                                            cartesianProduct_npArrays(c_atoms_residue1,\n",
    "                                                                      c_atoms_residue2))\n",
    "        not_c_atoms_dist = md.compute_distances(traj_chunk,\n",
    "                                                cartesianProduct_npArrays(not_c_atoms_residue1,\n",
    "                                                                          not_c_atoms_residue2))\n",
    "        "
   ]
  },
  {
   "cell_type": "code",
   "execution_count": 8,
   "metadata": {
    "collapsed": false
   },
   "outputs": [],
   "source": [
    "traj1 = md.load_netcdf(\n",
    "    \"/Users/je714/Troponin/IAN_Troponin/completehowarthcut/salted/ff14SB/run1/05_Prod_WTff14SB_000-050ns_run1.nc\",\n",
    "    top = top)"
   ]
  },
  {
   "cell_type": "code",
   "execution_count": 10,
   "metadata": {
    "collapsed": false
   },
   "outputs": [],
   "source": [
    "c_atom_pairs = cartesianProduct_npArrays(top.select(\"resid 0 and type C\"),\n",
    "                                         top.select(\"resid 3 and type C\"))\n",
    "not_c_atom_pairs = cartesianProduct_npArrays(top.select(\"resid 0 and not type C\"),\n",
    "                                             top.select(\"resid 3 and not type C\"))\n",
    "c_distances = md.compute_distances(traj1, c_atom_pairs)\n",
    "not_c_distances = md.compute_distances(traj1, not_c_atom_pairs)"
   ]
  }
 ],
 "metadata": {
  "kernelspec": {
   "display_name": "Python 3",
   "language": "python",
   "name": "python3"
  },
  "language_info": {
   "codemirror_mode": {
    "name": "ipython",
    "version": 3
   },
   "file_extension": ".py",
   "mimetype": "text/x-python",
   "name": "python",
   "nbconvert_exporter": "python",
   "pygments_lexer": "ipython3",
   "version": "3.4.4"
  }
 },
 "nbformat": 4,
 "nbformat_minor": 0
}
